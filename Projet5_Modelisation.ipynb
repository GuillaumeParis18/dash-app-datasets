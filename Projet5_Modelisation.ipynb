{
  "nbformat": 4,
  "nbformat_minor": 0,
  "metadata": {
    "colab": {
      "name": "Untitled",
      "provenance": [],
      "toc_visible": true,
      "authorship_tag": "ABX9TyOZXjVyzI+800Qv+r/Q62It",
      "include_colab_link": true
    },
    "kernelspec": {
      "name": "python3",
      "display_name": "Python 3"
    }
  },
  "cells": [
    {
      "cell_type": "markdown",
      "metadata": {
        "id": "view-in-github",
        "colab_type": "text"
      },
      "source": [
        "<a href=\"https://colab.research.google.com/github/GuillaumeParis18/dash-app-datasets/blob/master/Projet5_Modelisation.ipynb\" target=\"_parent\"><img src=\"https://colab.research.google.com/assets/colab-badge.svg\" alt=\"Open In Colab\"/></a>"
      ]
    },
    {
      "cell_type": "markdown",
      "metadata": {
        "id": "b54oJFIFVe9B",
        "colab_type": "text"
      },
      "source": [
        "# Parcours Ingénieur Machine Learning"
      ]
    },
    {
      "cell_type": "markdown",
      "metadata": {
        "id": "p5U2J_9pXzCy",
        "colab_type": "text"
      },
      "source": [
        "## Projet 5 : Catégorisez automatiquement des questions"
      ]
    },
    {
      "cell_type": "markdown",
      "metadata": {
        "id": "KMoZuYDFYCBp",
        "colab_type": "text"
      },
      "source": [
        "## Partie 2 : Modélisation et tests"
      ]
    },
    {
      "cell_type": "markdown",
      "metadata": {
        "id": "iTzbsElCb8Jc",
        "colab_type": "text"
      },
      "source": [
        "## Table des matières:"
      ]
    },
    {
      "cell_type": "markdown",
      "metadata": {
        "id": "4T_bF3-WcCqO",
        "colab_type": "text"
      },
      "source": [
        "* [Import des données](#0)\n",
        "* [1. Approche supervisée : Feature Engineering et modélisation](#1)\n",
        "    * [1.1 Transformation de la target \"Tags\"](#1.1)\n",
        "    * [1.2 Vectorisation et modélisation](#1.2)\n",
        "      * [1.2.1 Fonctions de transformation et de modélisation](#1.2.1)\n",
        "      * [1.2.2 Comparaison des résultats et choix du modèle](#1.2.2)\n",
        "    * [1.3 Optimisation des hyper paramètres](#1.3)\n",
        "* [2. Approche non supervisée](#2)\n",
        "  * [2.1 Préparation des données](#2.1)\n",
        "* [Conclusion et axes d'améliorations](#3)"
      ]
    },
    {
      "cell_type": "code",
      "metadata": {
        "id": "_V3S2ncryJuM",
        "colab_type": "code",
        "colab": {}
      },
      "source": [
        ""
      ],
      "execution_count": 0,
      "outputs": []
    },
    {
      "cell_type": "code",
      "metadata": {
        "id": "EWehLL7pyDoQ",
        "colab_type": "code",
        "colab": {}
      },
      "source": [
        ""
      ],
      "execution_count": 0,
      "outputs": []
    }
  ]
}